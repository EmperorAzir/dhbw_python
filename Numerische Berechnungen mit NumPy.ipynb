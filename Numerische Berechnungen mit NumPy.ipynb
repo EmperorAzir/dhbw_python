{
 "cells": [
  {
   "cell_type": "markdown",
   "metadata": {},
   "source": [
    "# Numerische Berechnungen mit NumPy"
   ]
  },
  {
   "cell_type": "markdown",
   "metadata": {},
   "source": [
    "---"
   ]
  },
  {
   "cell_type": "markdown",
   "metadata": {},
   "source": [
    "## Python Package Index\n",
    "\n",
    "Mithilfe des Paketverwaltungsprogramm `pip` können Python-Packages (auch *Library* oder *Bibliothek* genannt) aus dem Python Package Index (PyPI) heruntergeladen werden. Die aktuelle und empfohlene Version ist `pip3`. Diese sind auf der Website https://pypi.org/ gelistet und folgen der selben Struktur in der Kommandozeile.\n",
    "\n",
    "#### Einzelnes Package via pip3 herunterladen\n",
    "\n",
    "`pip3 install numpy`\n",
    "\n",
    "#### Letzte Version des Package via pip3 herunterladen\n",
    "\n",
    "Setzt man `-U` in den pip3-Befehl ein, so wird stets die aktuellste Version des Packages heruntergeladen:\n",
    "\n",
    "`pip3 install -U numpy`\n",
    "\n",
    "#### Mehrere Packages via pip3 herunterladen\n",
    "\n",
    "Es können in einer Kommandozeile mehrere Pakete heruntergeladen werden. So führt der folgende Befehl zum Herunterladen der Python-Packages *NumPy*, *Matplotlib* und *Pandas*:\n",
    "\n",
    "`pip3 install numpy matblotlib pandas`\n",
    "\n",
    "#### Mehrere Packages geordnet via pip3 herunterladen\n",
    "\n",
    "Sollen die Python-Packages in einer bestimmten Reihenfolge heruntergeladen werden, so muss `&` zwischen den einzelenen Packages gesetzt werden:\n",
    "\n",
    "`pip3 install numpy & matblotlib & pandas`"
   ]
  },
  {
   "cell_type": "markdown",
   "metadata": {},
   "source": [
    "## NumPy"
   ]
  },
  {
   "cell_type": "markdown",
   "metadata": {},
   "source": [
    "*NumPy* gehört zu den grundlegenden Bibliotheken für wissenschaftliches Rechnen mit Python. Hauptgegenstand sind n-dimensionale Array-Objekte, die das Berechnen von vielen Zahlenwerten deutlich beschleunigen und vereinfachen.\n",
    "\n",
    "Eine ausführliche Dokumentation ist auf https://numpy.org/doc/ zu finden."
   ]
  },
  {
   "cell_type": "markdown",
   "metadata": {},
   "source": [
    "### Installation von NumPy mithilfe von `pip3`"
   ]
  },
  {
   "cell_type": "code",
   "execution_count": 1,
   "metadata": {},
   "outputs": [
    {
     "name": "stdout",
     "output_type": "stream",
     "text": [
      "Collecting numpy\n",
      "  Using cached https://files.pythonhosted.org/packages/9e/cf/7cea38d32df6087d7c15bca8edef0be82e0d957119e9dafd7052dc6192f0/numpy-1.17.4-cp38-cp38-macosx_10_9_x86_64.whl\n",
      "Installing collected packages: numpy\n",
      "Successfully installed numpy-1.17.4\n"
     ]
    }
   ],
   "source": [
    "!pip3 install numpy"
   ]
  },
  {
   "cell_type": "markdown",
   "metadata": {},
   "source": [
    "---"
   ]
  },
  {
   "cell_type": "markdown",
   "metadata": {},
   "source": [
    "### Array"
   ]
  },
  {
   "cell_type": "markdown",
   "metadata": {},
   "source": [
    "Arrays bilden eine Liste von Objekten bzw. Zahlen und können in diesem Kontext auch als *Vektor* verstanden werden."
   ]
  },
  {
   "cell_type": "markdown",
   "metadata": {},
   "source": [
    "$Beispiel-1$"
   ]
  },
  {
   "cell_type": "markdown",
   "metadata": {},
   "source": [
    "#### Fall 1: Mit Python-Standardbibliothek"
   ]
  },
  {
   "cell_type": "code",
   "execution_count": 3,
   "metadata": {},
   "outputs": [
    {
     "name": "stdout",
     "output_type": "stream",
     "text": [
      "[0.8414709848078965, 0.9092974268256817, 0.1411200080598672, -0.7568024953079282, -0.9589242746631385, -0.27941549819892586]\n"
     ]
    }
   ],
   "source": [
    "from math import * \n",
    "\n",
    "zahlen = [1, 2, 3, 4, 5, 6] \n",
    "ergebnis = []\n",
    "\n",
    "for x in zahlen:\n",
    "    y = sin(x)                                #Zeile 7\n",
    "    ergebnis.append(y) \n",
    "    \n",
    "print(ergebnis)"
   ]
  },
  {
   "cell_type": "markdown",
   "metadata": {},
   "source": [
    "#### Fall 2: Mit NumPy"
   ]
  },
  {
   "cell_type": "code",
   "execution_count": 4,
   "metadata": {
    "scrolled": true
   },
   "outputs": [
    {
     "name": "stdout",
     "output_type": "stream",
     "text": [
      "[ 0.84147098  0.90929743  0.14112001 -0.7568025  -0.95892427 -0.2794155 ]\n"
     ]
    }
   ],
   "source": [
    "from numpy import *\n",
    "\n",
    "zahlen = array([1, 2, 3, 4, 5, 6])\n",
    "ergebnis = sin(zahlen)                         #Zeile 4\n",
    "print(ergebnis)"
   ]
  },
  {
   "cell_type": "markdown",
   "metadata": {},
   "source": [
    "Die `sin()`-Funktion aus dem Modul `math` (Zeile 7) und `numpy` (Zeile 4) sind nicht dieselben!\n",
    "\n",
    "Python erkennt anhand der Argumente, die der `sin()`-Funktion übergeben werden, welches Modul verwendet werden soll. Da in Zeile 4 der `sin()`-Funktion ein Array übergeben wird, wird die `sin()`-Funktion aus dem numpy-Modul verwendet."
   ]
  },
  {
   "cell_type": "markdown",
   "metadata": {},
   "source": [
    "#### Abfragen des Datentyps mit `dtype`"
   ]
  },
  {
   "cell_type": "code",
   "execution_count": 5,
   "metadata": {},
   "outputs": [
    {
     "data": {
      "text/plain": [
       "dtype('int64')"
      ]
     },
     "execution_count": 5,
     "metadata": {},
     "output_type": "execute_result"
    }
   ],
   "source": [
    "zahlen.dtype"
   ]
  },
  {
   "cell_type": "code",
   "execution_count": 6,
   "metadata": {},
   "outputs": [
    {
     "data": {
      "text/plain": [
       "dtype('float64')"
      ]
     },
     "execution_count": 6,
     "metadata": {},
     "output_type": "execute_result"
    }
   ],
   "source": [
    "ergebnis.dtype"
   ]
  },
  {
   "cell_type": "markdown",
   "metadata": {},
   "source": [
    "#### Definieren des Datentyps des Arrays"
   ]
  },
  {
   "cell_type": "code",
   "execution_count": 7,
   "metadata": {},
   "outputs": [
    {
     "data": {
      "text/plain": [
       "array([ 2.,  4.,  8., 16.])"
      ]
     },
     "execution_count": 7,
     "metadata": {},
     "output_type": "execute_result"
    }
   ],
   "source": [
    "x = array( [2,4,8,16], dtype=float)\n",
    "x"
   ]
  },
  {
   "cell_type": "code",
   "execution_count": 8,
   "metadata": {},
   "outputs": [
    {
     "data": {
      "text/plain": [
       "array([1.+0.j, 2.+0.j, 5.+0.j, 7.+0.j])"
      ]
     },
     "execution_count": 8,
     "metadata": {},
     "output_type": "execute_result"
    }
   ],
   "source": [
    "y = array( [1,2,5,7], dtype=complex)\n",
    "y"
   ]
  },
  {
   "cell_type": "markdown",
   "metadata": {},
   "source": [
    "### Matrizen"
   ]
  },
  {
   "cell_type": "code",
   "execution_count": null,
   "metadata": {},
   "outputs": [],
   "source": []
  }
 ],
 "metadata": {
  "kernelspec": {
   "display_name": "Python 3",
   "language": "python",
   "name": "python3"
  },
  "language_info": {
   "codemirror_mode": {
    "name": "ipython",
    "version": 3
   },
   "file_extension": ".py",
   "mimetype": "text/x-python",
   "name": "python",
   "nbconvert_exporter": "python",
   "pygments_lexer": "ipython3",
   "version": "3.8.0"
  }
 },
 "nbformat": 4,
 "nbformat_minor": 2
}
