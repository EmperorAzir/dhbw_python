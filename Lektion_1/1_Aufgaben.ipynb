{
 "cells": [
  {
   "cell_type": "markdown",
   "metadata": {},
   "source": [
    "# Aufgaben\n",
    "## Grundlagen von Python"
   ]
  },
  {
   "cell_type": "code",
   "execution_count": 55,
   "metadata": {},
   "outputs": [],
   "source": [
    "from cmath import sqrt\n",
    "from math import sin\n",
    "from math import pi"
   ]
  },
  {
   "cell_type": "markdown",
   "metadata": {},
   "source": [
    "### 1. Aufgabe\n",
    "Bilde und berechne folgende Funktion in Python um:"
   ]
  },
  {
   "cell_type": "code",
   "execution_count": null,
   "metadata": {},
   "outputs": [],
   "source": []
  },
  {
   "cell_type": "markdown",
   "metadata": {},
   "source": [
    "### 2. Aufgabe\n",
    "Bilde und berechne folgende Funktion in Python um."
   ]
  },
  {
   "cell_type": "markdown",
   "metadata": {},
   "source": [
    "Für die Variable `x` soll ein Eingabefeld mit der `input()`-Funktion erstellt werden und $x=4.5$ gewählt werden. Es soll sichergestellt werden, dass `x` eine <b>Dezimalzahl</b> abbildet.\n",
    "\n",
    "$y=\\displaystyle\\frac{1}{2}x^{3}-\\frac{1}{2}x^{2}+2x+5$"
   ]
  },
  {
   "cell_type": "code",
   "execution_count": null,
   "metadata": {},
   "outputs": [],
   "source": []
  },
  {
   "cell_type": "markdown",
   "metadata": {},
   "source": [
    "Für die Variable `x` soll ein Eingabefeld mit der `input()`-Funktion erstellt werden und $x=5$ gewählt werden. Es soll sichergestellt werden, dass `x` eine <b>Ganze Zahl</b> abbildet."
   ]
  },
  {
   "cell_type": "markdown",
   "metadata": {},
   "source": [
    "$z=\\displaystyle\\frac{1}{2π\\sqrt[]{1-x^{2}}}$"
   ]
  },
  {
   "cell_type": "code",
   "execution_count": null,
   "metadata": {},
   "outputs": [],
   "source": []
  },
  {
   "cell_type": "markdown",
   "metadata": {},
   "source": [
    "$y=\\sqrt[]{1+x^4}$"
   ]
  },
  {
   "cell_type": "code",
   "execution_count": null,
   "metadata": {},
   "outputs": [],
   "source": []
  }
 ],
 "metadata": {
  "kernelspec": {
   "display_name": "Python 3",
   "language": "python",
   "name": "python3"
  },
  "language_info": {
   "codemirror_mode": {
    "name": "ipython",
    "version": 3
   },
   "file_extension": ".py",
   "mimetype": "text/x-python",
   "name": "python",
   "nbconvert_exporter": "python",
   "pygments_lexer": "ipython3",
   "version": "3.8.0"
  }
 },
 "nbformat": 4,
 "nbformat_minor": 4
}
