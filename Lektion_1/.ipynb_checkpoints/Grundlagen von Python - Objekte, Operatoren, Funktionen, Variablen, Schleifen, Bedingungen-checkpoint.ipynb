{
 "cells": [
  {
   "cell_type": "markdown",
   "metadata": {},
   "source": [
    "# Allgemeines\n",
    "\n",
    "Bei Python handelt es sich um eine High Programming Language, wie sie Java, PHP, BASIC, C, C++ und C# ebenfalls sind.\n",
    "   \n",
    "Python ist eine <u>interpretierte</u> Sprache. Der Python-Interpreter verwandelt ein Python-Programm im ersten Schritt in einen Bytecode um. Danach führt die PVM (Python Virtual Machine) nach Start des Python-Programms alle Anweisungen nacheinander aus.\n",
    "\n",
    "Bei kompilierten Sprachen wie etwa C oder C++ übersetzt ein sogenannter Compiler den Quellcode (also das in dieser Sprache geschriebene Programm) in Maschinencode und erzeugt somit ein ausführbares Programm, das von nun an von alleine lauffähig ist. Soll das Programm auf unterschiedlichen Plattformen (Windows, Linux, macOS) laufen, so muss es für die jeweiligen Plattformen separat kompiliert werden. Bei interpretierten Sprachen wie beispielsweise Python läuft es etwas anders ab. Dreh- und Angelpunkt ist der sogenannte <b>Python-Interpreter</b>. Dieser verwandelt ein Python-Programm im ersten Schritt in den sogenannten Bytecode. Dieser Bytecode ist für sich alleine noch nicht lauffähig, dafür ist dann die <b>PVM (python virtual machine)</b> zuständig. Wird das Python-Programm gestartet, führt diese virtuelle Maschine nacheinander alle Anweisungen aus, die im Bytecode stecken.\n",
    "\n",
    "## Wichtige Eigenschaften\n",
    "\n",
    "Python ist eine <b>case sensitive-Sprache</b>, was Beachtung der Groß- und Kleinschreibung bedeutet. Das bedeutet, dass einmal vergebene Funktions- und Variablennamen sowie Schlüsselwörter immer gleich geschrieben werden müssen, z.B. `print(\"Hallo\")`. Die Aufrufe `Print(\"Hallo\")` oder `PRINT(\"Hallo\")` werden somit zu einer Fehlermeldung führen. Genauso handelt es sich bei <font color='blue'>name</font> und <font color='blue'>Name</font> um zwei verschiedene Variablen.\n",
    "\n",
    "## Normierungen\n",
    "\n",
    "Der <b>Python Enhancement Proposal (PEP)</b> sammelt Verbesserungsvorschläge und Anregungen für Python. Eine Liste aller PEPs findet man auf: \n",
    "https://www.python.org/dev/peps/\n",
    "   \n",
    "Eine schöne Übersicht zu detailierten Vorschlägen zu Formatierung, Namensgebung und Strukturierung in Python findet sich in <b>PEP8</b>: \n",
    "https://www.python.org/dev/peps/pep-0008/\n",
    "\n",
    "## Weitere Hilfe\n",
    "\n",
    "Befindet man sich im interaktiven Modus kann man mit `help(Befehl)` im Terminal Informationen über den zu recherchierenden Befehl erhalten.\n",
    "\n",
    "## Version\n",
    "\n",
    "In der Übung wird ausschließlich die Python-Version 3.8.0 verwendet.\n",
    "\n",
    "---"
   ]
  },
  {
   "cell_type": "markdown",
   "metadata": {},
   "source": [
    "# Objekte\n",
    "\n",
    "<font color='green'>Dynamisch typisiert</font> = Datentyp einer Variable lässt sich ändern (Python)\n",
    "\n",
    "Für einen Computer macht es einen großen Unterschied, ob es sich bei einer Variable um einen bool, integer oder float handelt, da der benötigte Speicherbedarf davon abhängt.\n",
    "\n",
    "| Typ | Beschreibung | Beispiel |\n",
    "| --- | --- | --- |\n",
    "| bool | zwei Zustände | [ True / False ; 0 / 1 ] |\n",
    "| integer | Ganze Zahl | [ 0 ; 1 ; 2 ; ... ] |\n",
    "| float | Dezimalzahl | [ 0.1 ; 4.6 ; 7.8 ; ... ] |\n",
    "| complex | Komplexe Zahlen | [ $π$; $e$, $j=\\sqrt[]{-1}$... ] |\n",
    "\n",
    "#### Erst zur Laufzeit (während der Programmausführung) wird bestimmt, von welchem Typ eine Variable ist."
   ]
  },
  {
   "cell_type": "markdown",
   "metadata": {},
   "source": [
    "## Regeln zur Bildung von Namen:"
   ]
  },
  {
   "cell_type": "markdown",
   "metadata": {},
   "source": [
    "- können aus Buchstaben und Ziffern und einem Sonderzeichen (z.B. `_` ) bestehen\n",
    "- das erste Zeichen im Namen darf keine Ziffer sein; ein Unterstrich ist jedoch erlaubt\n",
    "- Deutsche Umlaute (z.B. `Ä`, `ä`, `Ü`, ...) dürfen in Python 3 verwendet werden\n",
    "- Python ist eine Case-Sensitive-Language, d.h. es wird zwischen Groß- und Kleinschreibung unterschieden\n",
    "- Variablennamen dürfen nicht mit den Reservierten Worten (= Schlüsselwort, z.B. `TRUE`) belegt werden"
   ]
  },
  {
   "cell_type": "code",
   "execution_count": 1,
   "metadata": {},
   "outputs": [
    {
     "name": "stdout",
     "output_type": "stream",
     "text": [
      "(3-5j) (3-5j) (3-5j)\n"
     ]
    }
   ],
   "source": [
    "# Komplexe Zahlen\n",
    "z1 = 3.0 - 5.0j\n",
    "z2 = complex(3.0,-5.0) \n",
    "z3 = 3 - 5j\n",
    "print(z1, z2, z3)"
   ]
  },
  {
   "cell_type": "markdown",
   "metadata": {},
   "source": [
    "# Variablen"
   ]
  },
  {
   "cell_type": "markdown",
   "metadata": {},
   "source": [
    "## String\n",
    "\n",
    "Ein String kann auf drei Arten erzeugt werden:"
   ]
  },
  {
   "cell_type": "code",
   "execution_count": 13,
   "metadata": {},
   "outputs": [
    {
     "name": "stdout",
     "output_type": "stream",
     "text": [
      "Ich bin: 22\n"
     ]
    }
   ],
   "source": [
    "age = 22\n",
    "print(\"Ich bin: \" + str(age))\n",
    "# print(\"Ich bin: \" + age)  --> Dies würde eine Fehlermeldung geben."
   ]
  },
  {
   "cell_type": "code",
   "execution_count": 14,
   "metadata": {},
   "outputs": [
    {
     "name": "stdout",
     "output_type": "stream",
     "text": [
      "Ich bin: 22\n"
     ]
    }
   ],
   "source": [
    "print(\"Ich bin: 22\")"
   ]
  },
  {
   "cell_type": "markdown",
   "metadata": {},
   "source": [
    "## `s.count(z)`"
   ]
  },
  {
   "cell_type": "code",
   "execution_count": 15,
   "metadata": {},
   "outputs": [
    {
     "data": {
      "text/plain": [
       "4"
      ]
     },
     "execution_count": 15,
     "metadata": {},
     "output_type": "execute_result"
    }
   ],
   "source": [
    "x = \"Hallo Hallo HalloHallo\" \n",
    "x.count(\"Hallo\")"
   ]
  },
  {
   "cell_type": "markdown",
   "metadata": {},
   "source": [
    "## `s.center(w)`\n",
    "zentriert"
   ]
  },
  {
   "cell_type": "code",
   "execution_count": 16,
   "metadata": {},
   "outputs": [
    {
     "name": "stdout",
     "output_type": "stream",
     "text": [
      "Python\n"
     ]
    }
   ],
   "source": [
    "x = \"Python\" \n",
    "print(x)"
   ]
  },
  {
   "cell_type": "code",
   "execution_count": 17,
   "metadata": {},
   "outputs": [
    {
     "name": "stdout",
     "output_type": "stream",
     "text": [
      "    Python    \n"
     ]
    }
   ],
   "source": [
    "y = x.center(14) \n",
    "print(y)"
   ]
  },
  {
   "cell_type": "markdown",
   "metadata": {},
   "source": [
    "## `s.ljust(w), s.rjust(w)`\n",
    "linksbündig und rechtsbündig"
   ]
  },
  {
   "cell_type": "code",
   "execution_count": 19,
   "metadata": {},
   "outputs": [
    {
     "name": "stdout",
     "output_type": "stream",
     "text": [
      "Python              \n",
      "              Python\n"
     ]
    }
   ],
   "source": [
    "x = \"Python\" \n",
    "y = x.ljust(20) \n",
    "z = x.rjust(20) \n",
    "print(y)\n",
    "print(z)"
   ]
  },
  {
   "cell_type": "markdown",
   "metadata": {},
   "source": [
    "## `s.endswith(z), s.startswith(z)`"
   ]
  },
  {
   "cell_type": "code",
   "execution_count": 23,
   "metadata": {},
   "outputs": [
    {
     "data": {
      "text/plain": [
       "False"
      ]
     },
     "execution_count": 23,
     "metadata": {},
     "output_type": "execute_result"
    }
   ],
   "source": [
    "x = \"Python\\n\" \n",
    "x.endswith(\"on\")"
   ]
  },
  {
   "cell_type": "code",
   "execution_count": 21,
   "metadata": {},
   "outputs": [
    {
     "data": {
      "text/plain": [
       "True"
      ]
     },
     "execution_count": 21,
     "metadata": {},
     "output_type": "execute_result"
    }
   ],
   "source": [
    "x.endswith(\"\\n\")"
   ]
  },
  {
   "cell_type": "code",
   "execution_count": 22,
   "metadata": {},
   "outputs": [
    {
     "data": {
      "text/plain": [
       "True"
      ]
     },
     "execution_count": 22,
     "metadata": {},
     "output_type": "execute_result"
    }
   ],
   "source": [
    "x.startswith(\"Py\")"
   ]
  },
  {
   "cell_type": "markdown",
   "metadata": {},
   "source": [
    "## `s.find(z)`\n",
    "Ausgabe des Index des ersten Zeichens"
   ]
  },
  {
   "cell_type": "code",
   "execution_count": 24,
   "metadata": {},
   "outputs": [
    {
     "data": {
      "text/plain": [
       "15"
      ]
     },
     "execution_count": 24,
     "metadata": {},
     "output_type": "execute_result"
    }
   ],
   "source": [
    "x = \"Programmierung mit Python\" \n",
    "x.find(\"mit\")"
   ]
  },
  {
   "cell_type": "markdown",
   "metadata": {},
   "source": [
    "## `s.replace(a,b,n)`\n"
   ]
  },
  {
   "cell_type": "code",
   "execution_count": 25,
   "metadata": {},
   "outputs": [
    {
     "data": {
      "text/plain": [
       "'Programmieren mithilfe von Python'"
      ]
     },
     "execution_count": 25,
     "metadata": {},
     "output_type": "execute_result"
    }
   ],
   "source": [
    "w = \"Programmieren mit Python\" \n",
    "w.replace(\"mit\",\"mithilfe von\")"
   ]
  },
  {
   "cell_type": "code",
   "execution_count": 26,
   "metadata": {},
   "outputs": [
    {
     "data": {
      "text/plain": [
       "'Programmieren mit Python'"
      ]
     },
     "execution_count": 26,
     "metadata": {},
     "output_type": "execute_result"
    }
   ],
   "source": [
    "w"
   ]
  },
  {
   "cell_type": "code",
   "execution_count": null,
   "metadata": {},
   "outputs": [],
   "source": []
  }
 ],
 "metadata": {
  "kernelspec": {
   "display_name": "Python 3",
   "language": "python",
   "name": "python3"
  },
  "language_info": {
   "codemirror_mode": {
    "name": "ipython",
    "version": 3
   },
   "file_extension": ".py",
   "mimetype": "text/x-python",
   "name": "python",
   "nbconvert_exporter": "python",
   "pygments_lexer": "ipython3",
   "version": "3.8.0"
  }
 },
 "nbformat": 4,
 "nbformat_minor": 4
}
