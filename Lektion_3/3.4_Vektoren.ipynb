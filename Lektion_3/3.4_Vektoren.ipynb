{
 "cells": [
  {
   "cell_type": "code",
   "execution_count": 1,
   "metadata": {},
   "outputs": [],
   "source": [
    "from math import * # S. 148 ff.\n",
    "\n",
    "\n",
    "class vektor(object):\n",
    "    x = None  # Klassenattribute\n",
    "    y = None  # Klassenattribute\n",
    "\n",
    "    def vorgabe(self, x, y):\n",
    "        self.x = float(x)\n",
    "        self.y = float(y)\n",
    "\n",
    "    def rueckgabe(self):\n",
    "        return self.x, self.y\n",
    "\n",
    "    def eingabe(self):\n",
    "        self.x = float(input(\"Bitte die x-Komponente eingeben: \"))\n",
    "        self.y = float(input(\"Bitte die y-Komponente eingeben: \"))\n",
    "\n",
    "    def ausgabe(self):\n",
    "        if self.x == None or self.y == None:\n",
    "            print(\"Es wurde noch kein Vektor definiert!\")\n",
    "        else:\n",
    "            betrag = sqrt(self.x**2+self.y**2)\n",
    "            print(\"X-Komponente: \", self.x)\n",
    "            print(\"Y-Komponente: \", self.y)\n",
    "            print(\"Der Betrag ist: \", betrag)"
   ]
  },
  {
   "cell_type": "code",
   "execution_count": 2,
   "metadata": {},
   "outputs": [
    {
     "name": "stdout",
     "output_type": "stream",
     "text": [
      "Es wurde noch kein Vektor definiert!\n"
     ]
    }
   ],
   "source": [
    "v = vektor()\n",
    "v.ausgabe()"
   ]
  },
  {
   "cell_type": "code",
   "execution_count": 3,
   "metadata": {},
   "outputs": [
    {
     "name": "stdin",
     "output_type": "stream",
     "text": [
      "Bitte die x-Komponente eingeben:  3\n",
      "Bitte die y-Komponente eingeben:  4\n"
     ]
    }
   ],
   "source": [
    "v.eingabe()"
   ]
  },
  {
   "cell_type": "code",
   "execution_count": 4,
   "metadata": {},
   "outputs": [
    {
     "data": {
      "text/plain": [
       "(3.0, 4.0)"
      ]
     },
     "execution_count": 4,
     "metadata": {},
     "output_type": "execute_result"
    }
   ],
   "source": [
    "v.rueckgabe()"
   ]
  },
  {
   "cell_type": "code",
   "execution_count": 5,
   "metadata": {},
   "outputs": [
    {
     "name": "stdout",
     "output_type": "stream",
     "text": [
      "X-Komponente:  3.0\n",
      "Y-Komponente:  4.0\n",
      "Der Betrag ist:  5.0\n"
     ]
    }
   ],
   "source": [
    "v.ausgabe()"
   ]
  },
  {
   "cell_type": "code",
   "execution_count": 6,
   "metadata": {},
   "outputs": [
    {
     "name": "stdout",
     "output_type": "stream",
     "text": [
      "X-Komponente:  2.0\n",
      "Y-Komponente:  3.0\n",
      "Der Betrag ist:  3.605551275463989\n"
     ]
    }
   ],
   "source": [
    "u = vektor()\n",
    "u.vorgabe(2,3)\n",
    "u.ausgabe()"
   ]
  },
  {
   "cell_type": "markdown",
   "metadata": {},
   "source": [
    "## Vektoren addieren"
   ]
  },
  {
   "cell_type": "code",
   "execution_count": 7,
   "metadata": {},
   "outputs": [],
   "source": [
    "class vektor(object):\n",
    "    def __init__(self, x=0, y=0):\n",
    "        self.x = x\n",
    "        self.y = y\n",
    "    def addiere(self, other): \n",
    "        # addiere wird auf der rechten Seite einer Zuweisung aufgerufen, folglich muss die Methode ein Objekt der Klasse Vektor mit return zurückgeben\n",
    "        x = self.x + other.x\n",
    "        y = self.y + other.y\n",
    "        return vektor(x, y)\n",
    "    def ausgabe(self):\n",
    "        print(\"(\",self.x,\",\",self.y,\")\")"
   ]
  },
  {
   "cell_type": "code",
   "execution_count": 10,
   "metadata": {},
   "outputs": [
    {
     "name": "stdout",
     "output_type": "stream",
     "text": [
      "( 1 , 5 )\n"
     ]
    }
   ],
   "source": [
    "v1 = vektor(1,5)\n",
    "v1.ausgabe()"
   ]
  },
  {
   "cell_type": "code",
   "execution_count": 13,
   "metadata": {},
   "outputs": [
    {
     "name": "stdout",
     "output_type": "stream",
     "text": [
      "( 3 , -2 )\n"
     ]
    }
   ],
   "source": [
    "v2 = vektor(3,-2)\n",
    "v2.ausgabe()"
   ]
  },
  {
   "cell_type": "code",
   "execution_count": 14,
   "metadata": {},
   "outputs": [
    {
     "name": "stdout",
     "output_type": "stream",
     "text": [
      "( 4 , 3 )\n"
     ]
    }
   ],
   "source": [
    "v3 = v1.addiere(v2) # da diese Methode zur Klasse Vektor gehört, muss sie mithilfe des Punkt-Operators für das Objekt v1 aufgerufen werden. Zur Addition wird ein zweites Objekt übergeben.\n",
    "v3.ausgabe()"
   ]
  },
  {
   "cell_type": "markdown",
   "metadata": {},
   "source": [
    "### Alternative mithilfe von Operator Overloading"
   ]
  },
  {
   "cell_type": "code",
   "execution_count": 15,
   "metadata": {},
   "outputs": [],
   "source": [
    "class vektor(object):\n",
    "    def __init__(self, x=0, y=0):\n",
    "        self.x = x\n",
    "        self.y = y\n",
    "    def __add__(self, other): # wendet den +-Operator auf Objekte dieser Klasse an\n",
    "        x = self.x + other.x\n",
    "        y = self.y + other.y\n",
    "        return vektor(x, y)\n",
    "    def ausgabe(self):\n",
    "        print(\"(\",self.x,\",\",self.y,\")\")"
   ]
  },
  {
   "cell_type": "code",
   "execution_count": 16,
   "metadata": {},
   "outputs": [
    {
     "name": "stdout",
     "output_type": "stream",
     "text": [
      "( 1 , 5 )\n"
     ]
    }
   ],
   "source": [
    "v1 = vektor(1,5)\n",
    "v1.ausgabe()"
   ]
  },
  {
   "cell_type": "code",
   "execution_count": 17,
   "metadata": {},
   "outputs": [
    {
     "name": "stdout",
     "output_type": "stream",
     "text": [
      "( 3 , -2 )\n"
     ]
    }
   ],
   "source": [
    "v2 = vektor(3,-2)\n",
    "v2.ausgabe()"
   ]
  },
  {
   "cell_type": "code",
   "execution_count": 18,
   "metadata": {},
   "outputs": [
    {
     "name": "stdout",
     "output_type": "stream",
     "text": [
      "( 4 , 3 )\n"
     ]
    }
   ],
   "source": [
    "v3 = v1 + v2\n",
    "v3.ausgabe()"
   ]
  },
  {
   "cell_type": "markdown",
   "metadata": {},
   "source": [
    "### Vordefinierte Methoden für Operator Overloading\n",
    "\n",
    "| Operator | Methode |\n",
    "| --- | --- |\n",
    "| + | `__add__(self, other)` |\n",
    "| - | `__sub__(self, other)` |\n",
    "| * | `__mul__(self, other)` |\n",
    "| / | `__div__(self, other)` |\n",
    "| ** | `__pow__(self, other)` |\n",
    "| == | `__eq__(self, other)` |\n",
    "| >= | `__ge__(self, other)` |\n",
    "| > | `__gt__(self, other)` |\n",
    "| <= | `__le__(self, other)` |\n",
    "| < | `__lt__(self, other)` |"
   ]
  },
  {
   "cell_type": "code",
   "execution_count": null,
   "metadata": {},
   "outputs": [],
   "source": []
  }
 ],
 "metadata": {
  "kernelspec": {
   "display_name": "Python 3",
   "language": "python",
   "name": "python3"
  },
  "language_info": {
   "codemirror_mode": {
    "name": "ipython",
    "version": 3
   },
   "file_extension": ".py",
   "mimetype": "text/x-python",
   "name": "python",
   "nbconvert_exporter": "python",
   "pygments_lexer": "ipython3",
   "version": "3.8.0"
  }
 },
 "nbformat": 4,
 "nbformat_minor": 4
}
