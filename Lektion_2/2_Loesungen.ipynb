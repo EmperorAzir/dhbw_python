{
 "cells": [
  {
   "cell_type": "markdown",
   "metadata": {},
   "source": [
    "# Lösungen\n",
    "## Grundlagen von Python - Schleifen, Funktionen, Bedingungen"
   ]
  },
  {
   "cell_type": "markdown",
   "metadata": {},
   "source": [
    "### 1. Aufgabe\n",
    "Erstelle eine `for`-Schleifenbedinung die das Aufsummieren der natürlichen Zahlen von 1 bis n abbildet.\n",
    "\n",
    "$summe=1+2+3+4+...+(n-1)+n$"
   ]
  },
  {
   "cell_type": "code",
   "execution_count": 1,
   "metadata": {},
   "outputs": [
    {
     "name": "stdin",
     "output_type": "stream",
     "text": [
      "Bitte eine ganze Zahl n eingeben:  10\n"
     ]
    },
    {
     "name": "stdout",
     "output_type": "stream",
     "text": [
      "Die Summe der Zahlen von 1 bis 10 ist 55.\n"
     ]
    }
   ],
   "source": [
    "n = int(input(\"Bitte eine ganze Zahl n eingeben: \"))\n",
    "summe = 0\n",
    "\n",
    "for i in range(1, n+1):\n",
    "    # summe = summe + i\n",
    "    summe += i\n",
    "    \n",
    "print(\"Die Summe der Zahlen von 1 bis {0} ist {1}.\".format(n, summe))"
   ]
  },
  {
   "cell_type": "markdown",
   "metadata": {},
   "source": [
    "### 2. Aufgabe\n",
    "Erstelle eine `for`-Schleifenbedinung die die Fakultät einer Zahl n abbildet.\n",
    "\n",
    "$n!=1\\cdot 2\\cdot 3\\cdot ...\\cdot (n-1)\\cdot n$"
   ]
  },
  {
   "cell_type": "code",
   "execution_count": 2,
   "metadata": {},
   "outputs": [
    {
     "name": "stdin",
     "output_type": "stream",
     "text": [
      "Bitte eine ganze Zahl n eingeben:  5\n"
     ]
    },
    {
     "name": "stdout",
     "output_type": "stream",
     "text": [
      "Die Fakultät der Zahl 5 ist 120.\n"
     ]
    }
   ],
   "source": [
    "n = int(input(\"Bitte eine ganze Zahl n eingeben: \"))\n",
    "fakultaet = 1\n",
    "\n",
    "for i in range(1, n+1):\n",
    "    # fakultaet = fakultaet * i\n",
    "    fakultaet *= i\n",
    "    \n",
    "print(\"Die Fakultät der Zahl {0} ist {1}.\".format(n, fakultaet))"
   ]
  },
  {
   "cell_type": "markdown",
   "metadata": {},
   "source": [
    "### 3. Aufgabe\n",
    "Erstelle eine `while`-Schleifenbedinung die das Aufsummieren der natürlichen Zahlen von 1 bis n abbildet.\n",
    "\n",
    "$summe=1+2+3+4+...+(n-1)+n$"
   ]
  },
  {
   "cell_type": "code",
   "execution_count": 4,
   "metadata": {},
   "outputs": [
    {
     "name": "stdin",
     "output_type": "stream",
     "text": [
      "Bitte eine ganze Zahl n eingeben:  10\n"
     ]
    },
    {
     "name": "stdout",
     "output_type": "stream",
     "text": [
      "Die Summe der Zahlen von 1 bis 10 ist 55.\n"
     ]
    }
   ],
   "source": [
    "n = int(input(\"Bitte eine ganze Zahl n eingeben: \"))\n",
    "i = 1\n",
    "summe = 0\n",
    "\n",
    "while i<=n:\n",
    "    summe += i\n",
    "    i += 1\n",
    "    \n",
    "print(\"Die Summe der Zahlen von 1 bis {0} ist {1}.\".format(n, summe))"
   ]
  },
  {
   "cell_type": "code",
   "execution_count": 5,
   "metadata": {},
   "outputs": [
    {
     "name": "stdout",
     "output_type": "stream",
     "text": [
      "0\n"
     ]
    }
   ],
   "source": [
    "def fakultaet(n):\n",
    "    p = 1\n",
    "    for i in range(n):\n",
    "        p *= i\n",
    "    return p\n",
    "\n",
    "\n",
    "print(fakultaet(10))"
   ]
  },
  {
   "cell_type": "code",
   "execution_count": null,
   "metadata": {},
   "outputs": [],
   "source": []
  }
 ],
 "metadata": {
  "kernelspec": {
   "display_name": "Python 3",
   "language": "python",
   "name": "python3"
  },
  "language_info": {
   "codemirror_mode": {
    "name": "ipython",
    "version": 3
   },
   "file_extension": ".py",
   "mimetype": "text/x-python",
   "name": "python",
   "nbconvert_exporter": "python",
   "pygments_lexer": "ipython3",
   "version": "3.8.0"
  }
 },
 "nbformat": 4,
 "nbformat_minor": 4
}
